{
 "cells": [
  {
   "cell_type": "code",
   "execution_count": 1,
   "id": "45126e45",
   "metadata": {
    "execution": {
     "iopub.execute_input": "2022-05-24T09:26:38.950838Z",
     "iopub.status.busy": "2022-05-24T09:26:38.949522Z",
     "iopub.status.idle": "2022-05-24T09:26:40.239675Z",
     "shell.execute_reply": "2022-05-24T09:26:40.238509Z"
    },
    "papermill": {
     "duration": 1.33093,
     "end_time": "2022-05-24T09:26:40.242932",
     "exception": false,
     "start_time": "2022-05-24T09:26:38.912002",
     "status": "completed"
    },
    "tags": []
   },
   "outputs": [],
   "source": [
    "import pandas as pd\n",
    "import numpy as np\n",
    "import matplotlib.pyplot as plt\n",
    "import missingno as ms\n",
    "import seaborn as sns\n",
    "import warnings\n",
    "%matplotlib inline"
   ]
  },
  {
   "cell_type": "code",
   "execution_count": 2,
   "id": "7830b7f7",
   "metadata": {
    "execution": {
     "iopub.execute_input": "2022-05-24T09:26:40.314686Z",
     "iopub.status.busy": "2022-05-24T09:26:40.314393Z",
     "iopub.status.idle": "2022-05-24T09:26:40.319407Z",
     "shell.execute_reply": "2022-05-24T09:26:40.318291Z"
    },
    "papermill": {
     "duration": 0.044185,
     "end_time": "2022-05-24T09:26:40.321904",
     "exception": false,
     "start_time": "2022-05-24T09:26:40.277719",
     "status": "completed"
    },
    "tags": []
   },
   "outputs": [],
   "source": [
    "warnings.simplefilter('ignore')"
   ]
  },
  {
   "cell_type": "code",
   "execution_count": 3,
   "id": "1c057d96",
   "metadata": {
    "execution": {
     "iopub.execute_input": "2022-05-24T09:26:40.391436Z",
     "iopub.status.busy": "2022-05-24T09:26:40.391005Z",
     "iopub.status.idle": "2022-05-24T09:26:40.450810Z",
     "shell.execute_reply": "2022-05-24T09:26:40.449772Z"
    },
    "papermill": {
     "duration": 0.098538,
     "end_time": "2022-05-24T09:26:40.454510",
     "exception": false,
     "start_time": "2022-05-24T09:26:40.355972",
     "status": "completed"
    },
    "tags": []
   },
   "outputs": [
    {
     "data": {
      "text/html": [
       "<div>\n",
       "<style scoped>\n",
       "    .dataframe tbody tr th:only-of-type {\n",
       "        vertical-align: middle;\n",
       "    }\n",
       "\n",
       "    .dataframe tbody tr th {\n",
       "        vertical-align: top;\n",
       "    }\n",
       "\n",
       "    .dataframe thead th {\n",
       "        text-align: right;\n",
       "    }\n",
       "</style>\n",
       "<table border=\"1\" class=\"dataframe\">\n",
       "  <thead>\n",
       "    <tr style=\"text-align: right;\">\n",
       "      <th></th>\n",
       "      <th>Unnamed: 0</th>\n",
       "      <th>Months since Last Donation</th>\n",
       "      <th>Number of Donations</th>\n",
       "      <th>Total Volume Donated (c.c.)</th>\n",
       "      <th>Months since First Donation</th>\n",
       "      <th>Made Donation in March 2007</th>\n",
       "    </tr>\n",
       "  </thead>\n",
       "  <tbody>\n",
       "    <tr>\n",
       "      <th>0</th>\n",
       "      <td>619</td>\n",
       "      <td>2</td>\n",
       "      <td>50</td>\n",
       "      <td>12500</td>\n",
       "      <td>98</td>\n",
       "      <td>1</td>\n",
       "    </tr>\n",
       "    <tr>\n",
       "      <th>1</th>\n",
       "      <td>664</td>\n",
       "      <td>0</td>\n",
       "      <td>13</td>\n",
       "      <td>3250</td>\n",
       "      <td>28</td>\n",
       "      <td>1</td>\n",
       "    </tr>\n",
       "    <tr>\n",
       "      <th>2</th>\n",
       "      <td>441</td>\n",
       "      <td>1</td>\n",
       "      <td>16</td>\n",
       "      <td>4000</td>\n",
       "      <td>35</td>\n",
       "      <td>1</td>\n",
       "    </tr>\n",
       "    <tr>\n",
       "      <th>3</th>\n",
       "      <td>160</td>\n",
       "      <td>2</td>\n",
       "      <td>20</td>\n",
       "      <td>5000</td>\n",
       "      <td>45</td>\n",
       "      <td>1</td>\n",
       "    </tr>\n",
       "    <tr>\n",
       "      <th>4</th>\n",
       "      <td>358</td>\n",
       "      <td>1</td>\n",
       "      <td>24</td>\n",
       "      <td>6000</td>\n",
       "      <td>77</td>\n",
       "      <td>0</td>\n",
       "    </tr>\n",
       "  </tbody>\n",
       "</table>\n",
       "</div>"
      ],
      "text/plain": [
       "   Unnamed: 0  Months since Last Donation  Number of Donations  \\\n",
       "0         619                           2                   50   \n",
       "1         664                           0                   13   \n",
       "2         441                           1                   16   \n",
       "3         160                           2                   20   \n",
       "4         358                           1                   24   \n",
       "\n",
       "   Total Volume Donated (c.c.)  Months since First Donation  \\\n",
       "0                        12500                           98   \n",
       "1                         3250                           28   \n",
       "2                         4000                           35   \n",
       "3                         5000                           45   \n",
       "4                         6000                           77   \n",
       "\n",
       "   Made Donation in March 2007  \n",
       "0                            1  \n",
       "1                            1  \n",
       "2                            1  \n",
       "3                            1  \n",
       "4                            0  "
      ]
     },
     "execution_count": 3,
     "metadata": {},
     "output_type": "execute_result"
    }
   ],
   "source": [
    "data = pd.read_csv('../input/blood-donation/Blood Donation Analysis/blood-train.csv')\n",
    "data_test =pd.read_csv('../input/blood-donation/Blood Donation Analysis/blood-test.csv')\n",
    "data.head()"
   ]
  },
  {
   "cell_type": "code",
   "execution_count": 4,
   "id": "c588b597",
   "metadata": {
    "execution": {
     "iopub.execute_input": "2022-05-24T09:26:40.527133Z",
     "iopub.status.busy": "2022-05-24T09:26:40.526781Z",
     "iopub.status.idle": "2022-05-24T09:26:40.533709Z",
     "shell.execute_reply": "2022-05-24T09:26:40.532863Z"
    },
    "papermill": {
     "duration": 0.045436,
     "end_time": "2022-05-24T09:26:40.535912",
     "exception": false,
     "start_time": "2022-05-24T09:26:40.490476",
     "status": "completed"
    },
    "tags": []
   },
   "outputs": [
    {
     "data": {
      "text/plain": [
       "(576, 6)"
      ]
     },
     "execution_count": 4,
     "metadata": {},
     "output_type": "execute_result"
    }
   ],
   "source": [
    "data.shape"
   ]
  },
  {
   "cell_type": "code",
   "execution_count": 5,
   "id": "518697fc",
   "metadata": {
    "execution": {
     "iopub.execute_input": "2022-05-24T09:26:40.607889Z",
     "iopub.status.busy": "2022-05-24T09:26:40.607388Z",
     "iopub.status.idle": "2022-05-24T09:26:41.081490Z",
     "shell.execute_reply": "2022-05-24T09:26:41.080405Z"
    },
    "papermill": {
     "duration": 0.513636,
     "end_time": "2022-05-24T09:26:41.084402",
     "exception": false,
     "start_time": "2022-05-24T09:26:40.570766",
     "status": "completed"
    },
    "tags": []
   },
   "outputs": [
    {
     "name": "stdout",
     "output_type": "stream",
     "text": [
      "Unnamed: 0                     0\n",
      "Months since Last Donation     0\n",
      "Number of Donations            0\n",
      "Total Volume Donated (c.c.)    0\n",
      "Months since First Donation    0\n",
      "Made Donation in March 2007    0\n",
      "dtype: int64\n"
     ]
    },
    {
     "data": {
      "text/plain": [
       "<AxesSubplot:>"
      ]
     },
     "execution_count": 5,
     "metadata": {},
     "output_type": "execute_result"
    },
    {
     "data": {
      "image/png": "[encoded data removed]",
      "text/plain": [
       "<Figure size 1800x720 with 2 Axes>"
      ]
     },
     "metadata": {
      "needs_background": "light"
     },
     "output_type": "display_data"
    }
   ],
   "source": [
    "print(data.isnull().sum())\n",
    "ms.matrix(data)"
   ]
  },
  {
   "cell_type": "code",
   "execution_count": null,
   "id": "083ffc7e",
   "metadata": {
    "papermill": {
     "duration": 0.037661,
     "end_time": "2022-05-24T09:26:41.161616",
     "exception": false,
     "start_time": "2022-05-24T09:26:41.123955",
     "status": "completed"
    },
    "tags": []
   },
   "outputs": [],
   "source": []
  },
  {
   "cell_type": "code",
   "execution_count": 6,
   "id": "1fc1cf73",
   "metadata": {
    "execution": {
     "iopub.execute_input": "2022-05-24T09:26:41.238459Z",
     "iopub.status.busy": "2022-05-24T09:26:41.237759Z",
     "iopub.status.idle": "2022-05-24T09:26:41.251601Z",
     "shell.execute_reply": "2022-05-24T09:26:41.250700Z"
    },
    "papermill": {
     "duration": 0.055163,
     "end_time": "2022-05-24T09:26:41.254307",
     "exception": false,
     "start_time": "2022-05-24T09:26:41.199144",
     "status": "completed"
    },
    "tags": []
   },
   "outputs": [
    {
     "data": {
      "text/plain": [
       "0    438\n",
       "1    138\n",
       "Name: Made Donation in March 2007, dtype: int64"
      ]
     },
     "execution_count": 6,
     "metadata": {},
     "output_type": "execute_result"
    }
   ],
   "source": [
    "data['Made Donation in March 2007'].value_counts()"
   ]
  },
  {
   "cell_type": "code",
   "execution_count": 7,
   "id": "5138dd93",
   "metadata": {
    "execution": {
     "iopub.execute_input": "2022-05-24T09:26:41.332061Z",
     "iopub.status.busy": "2022-05-24T09:26:41.331472Z",
     "iopub.status.idle": "2022-05-24T09:26:41.490250Z",
     "shell.execute_reply": "2022-05-24T09:26:41.489208Z"
    },
    "papermill": {
     "duration": 0.20109,
     "end_time": "2022-05-24T09:26:41.492644",
     "exception": false,
     "start_time": "2022-05-24T09:26:41.291554",
     "status": "completed"
    },
    "tags": []
   },
   "outputs": [
    {
     "data": {
      "text/plain": [
       "<AxesSubplot:xlabel='Made Donation in March 2007', ylabel='count'>"
      ]
     },
     "execution_count": 7,
     "metadata": {},
     "output_type": "execute_result"
    },
    {
     "data": {
      "image/png": "[encoded data removed]",
      "text/plain": [
       "<Figure size 432x288 with 1 Axes>"
      ]
     },
     "metadata": {
      "needs_background": "light"
     },
     "output_type": "display_data"
    }
   ],
   "source": [
    "sns.countplot(data['Made Donation in March 2007'])"
   ]
  },
  {
   "cell_type": "code",
   "execution_count": 8,
   "id": "ded080b1",
   "metadata": {
    "execution": {
     "iopub.execute_input": "2022-05-24T09:26:41.571592Z",
     "iopub.status.busy": "2022-05-24T09:26:41.570892Z",
     "iopub.status.idle": "2022-05-24T09:26:41.585518Z",
     "shell.execute_reply": "2022-05-24T09:26:41.584577Z"
    },
    "papermill": {
     "duration": 0.056735,
     "end_time": "2022-05-24T09:26:41.587688",
     "exception": false,
     "start_time": "2022-05-24T09:26:41.530953",
     "status": "completed"
    },
    "tags": []
   },
   "outputs": [
    {
     "data": {
      "text/html": [
       "<div>\n",
       "<style scoped>\n",
       "    .dataframe tbody tr th:only-of-type {\n",
       "        vertical-align: middle;\n",
       "    }\n",
       "\n",
       "    .dataframe tbody tr th {\n",
       "        vertical-align: top;\n",
       "    }\n",
       "\n",
       "    .dataframe thead th {\n",
       "        text-align: right;\n",
       "    }\n",
       "</style>\n",
       "<table border=\"1\" class=\"dataframe\">\n",
       "  <thead>\n",
       "    <tr style=\"text-align: right;\">\n",
       "      <th></th>\n",
       "      <th>Months since Last Donation</th>\n",
       "      <th>Number of Donations</th>\n",
       "      <th>Total Volume Donated (c.c.)</th>\n",
       "      <th>Months since First Donation</th>\n",
       "      <th>Made Donation in March 2007</th>\n",
       "    </tr>\n",
       "  </thead>\n",
       "  <tbody>\n",
       "    <tr>\n",
       "      <th>0</th>\n",
       "      <td>2</td>\n",
       "      <td>50</td>\n",
       "      <td>12500</td>\n",
       "      <td>98</td>\n",
       "      <td>1</td>\n",
       "    </tr>\n",
       "    <tr>\n",
       "      <th>1</th>\n",
       "      <td>0</td>\n",
       "      <td>13</td>\n",
       "      <td>3250</td>\n",
       "      <td>28</td>\n",
       "      <td>1</td>\n",
       "    </tr>\n",
       "    <tr>\n",
       "      <th>2</th>\n",
       "      <td>1</td>\n",
       "      <td>16</td>\n",
       "      <td>4000</td>\n",
       "      <td>35</td>\n",
       "      <td>1</td>\n",
       "    </tr>\n",
       "    <tr>\n",
       "      <th>3</th>\n",
       "      <td>2</td>\n",
       "      <td>20</td>\n",
       "      <td>5000</td>\n",
       "      <td>45</td>\n",
       "      <td>1</td>\n",
       "    </tr>\n",
       "    <tr>\n",
       "      <th>4</th>\n",
       "      <td>1</td>\n",
       "      <td>24</td>\n",
       "      <td>6000</td>\n",
       "      <td>77</td>\n",
       "      <td>0</td>\n",
       "    </tr>\n",
       "  </tbody>\n",
       "</table>\n",
       "</div>"
      ],
      "text/plain": [
       "   Months since Last Donation  Number of Donations  \\\n",
       "0                           2                   50   \n",
       "1                           0                   13   \n",
       "2                           1                   16   \n",
       "3                           2                   20   \n",
       "4                           1                   24   \n",
       "\n",
       "   Total Volume Donated (c.c.)  Months since First Donation  \\\n",
       "0                        12500                           98   \n",
       "1                         3250                           28   \n",
       "2                         4000                           35   \n",
       "3                         5000                           45   \n",
       "4                         6000                           77   \n",
       "\n",
       "   Made Donation in March 2007  \n",
       "0                            1  \n",
       "1                            1  \n",
       "2                            1  \n",
       "3                            1  \n",
       "4                            0  "
      ]
     },
     "execution_count": 8,
     "metadata": {},
     "output_type": "execute_result"
    }
   ],
   "source": [
    "data = data.drop('Unnamed: 0', axis =1)\n",
    "data.head()"
   ]
  },
  {
   "cell_type": "code",
   "execution_count": 9,
   "id": "92d7cdca",
   "metadata": {
    "execution": {
     "iopub.execute_input": "2022-05-24T09:26:41.667867Z",
     "iopub.status.busy": "2022-05-24T09:26:41.667420Z",
     "iopub.status.idle": "2022-05-24T09:26:41.679320Z",
     "shell.execute_reply": "2022-05-24T09:26:41.678447Z"
    },
    "papermill": {
     "duration": 0.055281,
     "end_time": "2022-05-24T09:26:41.681438",
     "exception": false,
     "start_time": "2022-05-24T09:26:41.626157",
     "status": "completed"
    },
    "tags": []
   },
   "outputs": [
    {
     "data": {
      "text/html": [
       "<div>\n",
       "<style scoped>\n",
       "    .dataframe tbody tr th:only-of-type {\n",
       "        vertical-align: middle;\n",
       "    }\n",
       "\n",
       "    .dataframe tbody tr th {\n",
       "        vertical-align: top;\n",
       "    }\n",
       "\n",
       "    .dataframe thead th {\n",
       "        text-align: right;\n",
       "    }\n",
       "</style>\n",
       "<table border=\"1\" class=\"dataframe\">\n",
       "  <thead>\n",
       "    <tr style=\"text-align: right;\">\n",
       "      <th></th>\n",
       "      <th>Months since Last Donation</th>\n",
       "      <th>Number of Donations</th>\n",
       "      <th>Total Volume Donated (c.c.)</th>\n",
       "      <th>Months since First Donation</th>\n",
       "    </tr>\n",
       "  </thead>\n",
       "  <tbody>\n",
       "    <tr>\n",
       "      <th>0</th>\n",
       "      <td>2</td>\n",
       "      <td>12</td>\n",
       "      <td>3000</td>\n",
       "      <td>52</td>\n",
       "    </tr>\n",
       "    <tr>\n",
       "      <th>1</th>\n",
       "      <td>21</td>\n",
       "      <td>7</td>\n",
       "      <td>1750</td>\n",
       "      <td>38</td>\n",
       "    </tr>\n",
       "    <tr>\n",
       "      <th>2</th>\n",
       "      <td>4</td>\n",
       "      <td>1</td>\n",
       "      <td>250</td>\n",
       "      <td>4</td>\n",
       "    </tr>\n",
       "    <tr>\n",
       "      <th>3</th>\n",
       "      <td>11</td>\n",
       "      <td>11</td>\n",
       "      <td>2750</td>\n",
       "      <td>38</td>\n",
       "    </tr>\n",
       "    <tr>\n",
       "      <th>4</th>\n",
       "      <td>4</td>\n",
       "      <td>12</td>\n",
       "      <td>3000</td>\n",
       "      <td>34</td>\n",
       "    </tr>\n",
       "  </tbody>\n",
       "</table>\n",
       "</div>"
      ],
      "text/plain": [
       "   Months since Last Donation  Number of Donations  \\\n",
       "0                           2                   12   \n",
       "1                          21                    7   \n",
       "2                           4                    1   \n",
       "3                          11                   11   \n",
       "4                           4                   12   \n",
       "\n",
       "   Total Volume Donated (c.c.)  Months since First Donation  \n",
       "0                         3000                           52  \n",
       "1                         1750                           38  \n",
       "2                          250                            4  \n",
       "3                         2750                           38  \n",
       "4                         3000                           34  "
      ]
     },
     "execution_count": 9,
     "metadata": {},
     "output_type": "execute_result"
    }
   ],
   "source": [
    "\n",
    "data_test = data_test.drop('Unnamed: 0',axis =1)\n",
    "data_test.head()"
   ]
  },
  {
   "cell_type": "code",
   "execution_count": 10,
   "id": "8b133b62",
   "metadata": {
    "execution": {
     "iopub.execute_input": "2022-05-24T09:26:41.761923Z",
     "iopub.status.busy": "2022-05-24T09:26:41.761651Z",
     "iopub.status.idle": "2022-05-24T09:26:41.782476Z",
     "shell.execute_reply": "2022-05-24T09:26:41.781361Z"
    },
    "papermill": {
     "duration": 0.063761,
     "end_time": "2022-05-24T09:26:41.784767",
     "exception": false,
     "start_time": "2022-05-24T09:26:41.721006",
     "status": "completed"
    },
    "tags": []
   },
   "outputs": [
    {
     "data": {
      "text/html": [
       "<div>\n",
       "<style scoped>\n",
       "    .dataframe tbody tr th:only-of-type {\n",
       "        vertical-align: middle;\n",
       "    }\n",
       "\n",
       "    .dataframe tbody tr th {\n",
       "        vertical-align: top;\n",
       "    }\n",
       "\n",
       "    .dataframe thead th {\n",
       "        text-align: right;\n",
       "    }\n",
       "</style>\n",
       "<table border=\"1\" class=\"dataframe\">\n",
       "  <thead>\n",
       "    <tr style=\"text-align: right;\">\n",
       "      <th></th>\n",
       "      <th>Months since Last Donation</th>\n",
       "      <th>Number of Donations</th>\n",
       "      <th>Total Volume Donated (c.c.)</th>\n",
       "      <th>Months since First Donation</th>\n",
       "    </tr>\n",
       "  </thead>\n",
       "  <tbody>\n",
       "    <tr>\n",
       "      <th>0</th>\n",
       "      <td>2</td>\n",
       "      <td>2</td>\n",
       "      <td>500</td>\n",
       "      <td>4</td>\n",
       "    </tr>\n",
       "    <tr>\n",
       "      <th>1</th>\n",
       "      <td>2</td>\n",
       "      <td>2</td>\n",
       "      <td>500</td>\n",
       "      <td>4</td>\n",
       "    </tr>\n",
       "    <tr>\n",
       "      <th>2</th>\n",
       "      <td>2</td>\n",
       "      <td>2</td>\n",
       "      <td>500</td>\n",
       "      <td>4</td>\n",
       "    </tr>\n",
       "    <tr>\n",
       "      <th>3</th>\n",
       "      <td>2</td>\n",
       "      <td>2</td>\n",
       "      <td>500</td>\n",
       "      <td>4</td>\n",
       "    </tr>\n",
       "    <tr>\n",
       "      <th>4</th>\n",
       "      <td>2</td>\n",
       "      <td>2</td>\n",
       "      <td>500</td>\n",
       "      <td>4</td>\n",
       "    </tr>\n",
       "  </tbody>\n",
       "</table>\n",
       "</div>"
      ],
      "text/plain": [
       "   Months since Last Donation  Number of Donations  \\\n",
       "0                           2                    2   \n",
       "1                           2                    2   \n",
       "2                           2                    2   \n",
       "3                           2                    2   \n",
       "4                           2                    2   \n",
       "\n",
       "   Total Volume Donated (c.c.)  Months since First Donation  \n",
       "0                          500                            4  \n",
       "1                          500                            4  \n",
       "2                          500                            4  \n",
       "3                          500                            4  \n",
       "4                          500                            4  "
      ]
     },
     "execution_count": 10,
     "metadata": {},
     "output_type": "execute_result"
    }
   ],
   "source": [
    "data_train = data.iloc[:,:-1]\n",
    "data_train.head()\n",
    "\n",
    "new_data = pd.merge(data_train,data_test)\n",
    "new_data.head()"
   ]
  },
  {
   "cell_type": "code",
   "execution_count": 11,
   "id": "16a0f0f6",
   "metadata": {
    "execution": {
     "iopub.execute_input": "2022-05-24T09:26:41.867118Z",
     "iopub.status.busy": "2022-05-24T09:26:41.866628Z",
     "iopub.status.idle": "2022-05-24T09:26:41.871552Z",
     "shell.execute_reply": "2022-05-24T09:26:41.871028Z"
    },
    "papermill": {
     "duration": 0.048732,
     "end_time": "2022-05-24T09:26:41.873403",
     "exception": false,
     "start_time": "2022-05-24T09:26:41.824671",
     "status": "completed"
    },
    "tags": []
   },
   "outputs": [],
   "source": [
    "y= data.iloc[:,-1]\n",
    "y.head()\n",
    "x=new_data\n"
   ]
  },
  {
   "cell_type": "markdown",
   "id": "ca732af8",
   "metadata": {
    "papermill": {
     "duration": 0.039402,
     "end_time": "2022-05-24T09:26:41.953183",
     "exception": false,
     "start_time": "2022-05-24T09:26:41.913781",
     "status": "completed"
    },
    "tags": []
   },
   "source": [
    "              \n",
    "             EDA"
   ]
  },
  {
   "cell_type": "code",
   "execution_count": 12,
   "id": "12f6b724",
   "metadata": {
    "execution": {
     "iopub.execute_input": "2022-05-24T09:26:42.035390Z",
     "iopub.status.busy": "2022-05-24T09:26:42.034861Z",
     "iopub.status.idle": "2022-05-24T09:26:42.243457Z",
     "shell.execute_reply": "2022-05-24T09:26:42.242316Z"
    },
    "papermill": {
     "duration": 0.253388,
     "end_time": "2022-05-24T09:26:42.246067",
     "exception": false,
     "start_time": "2022-05-24T09:26:41.992679",
     "status": "completed"
    },
    "tags": []
   },
   "outputs": [],
   "source": [
    "from sklearn.model_selection import train_test_split\n",
    "from sklearn.model_selection import cross_val_score \n",
    "from sklearn.metrics import accuracy_score, confusion_matrix ,roc_auc_score"
   ]
  },
  {
   "cell_type": "code",
   "execution_count": 13,
   "id": "c868f9e4",
   "metadata": {
    "execution": {
     "iopub.execute_input": "2022-05-24T09:26:42.328684Z",
     "iopub.status.busy": "2022-05-24T09:26:42.328358Z",
     "iopub.status.idle": "2022-05-24T09:26:42.355273Z",
     "shell.execute_reply": "2022-05-24T09:26:42.354221Z"
    },
    "papermill": {
     "duration": 0.070823,
     "end_time": "2022-05-24T09:26:42.357766",
     "exception": false,
     "start_time": "2022-05-24T09:26:42.286943",
     "status": "completed"
    },
    "tags": []
   },
   "outputs": [
    {
     "data": {
      "text/html": [
       "<div>\n",
       "<style scoped>\n",
       "    .dataframe tbody tr th:only-of-type {\n",
       "        vertical-align: middle;\n",
       "    }\n",
       "\n",
       "    .dataframe tbody tr th {\n",
       "        vertical-align: top;\n",
       "    }\n",
       "\n",
       "    .dataframe thead th {\n",
       "        text-align: right;\n",
       "    }\n",
       "</style>\n",
       "<table border=\"1\" class=\"dataframe\">\n",
       "  <thead>\n",
       "    <tr style=\"text-align: right;\">\n",
       "      <th></th>\n",
       "      <th>Months since Last Donation</th>\n",
       "      <th>Number of Donations</th>\n",
       "      <th>Total Volume Donated (c.c.)</th>\n",
       "      <th>Months since First Donation</th>\n",
       "    </tr>\n",
       "  </thead>\n",
       "  <tbody>\n",
       "    <tr>\n",
       "      <th>count</th>\n",
       "      <td>576.000000</td>\n",
       "      <td>576.000000</td>\n",
       "      <td>576.000000</td>\n",
       "      <td>576.000000</td>\n",
       "    </tr>\n",
       "    <tr>\n",
       "      <th>mean</th>\n",
       "      <td>9.439236</td>\n",
       "      <td>5.427083</td>\n",
       "      <td>1356.770833</td>\n",
       "      <td>34.050347</td>\n",
       "    </tr>\n",
       "    <tr>\n",
       "      <th>std</th>\n",
       "      <td>8.175454</td>\n",
       "      <td>5.740010</td>\n",
       "      <td>1435.002556</td>\n",
       "      <td>24.227672</td>\n",
       "    </tr>\n",
       "    <tr>\n",
       "      <th>min</th>\n",
       "      <td>0.000000</td>\n",
       "      <td>1.000000</td>\n",
       "      <td>250.000000</td>\n",
       "      <td>2.000000</td>\n",
       "    </tr>\n",
       "    <tr>\n",
       "      <th>25%</th>\n",
       "      <td>2.000000</td>\n",
       "      <td>2.000000</td>\n",
       "      <td>500.000000</td>\n",
       "      <td>16.000000</td>\n",
       "    </tr>\n",
       "    <tr>\n",
       "      <th>50%</th>\n",
       "      <td>7.000000</td>\n",
       "      <td>4.000000</td>\n",
       "      <td>1000.000000</td>\n",
       "      <td>28.000000</td>\n",
       "    </tr>\n",
       "    <tr>\n",
       "      <th>75%</th>\n",
       "      <td>14.000000</td>\n",
       "      <td>7.000000</td>\n",
       "      <td>1750.000000</td>\n",
       "      <td>49.250000</td>\n",
       "    </tr>\n",
       "    <tr>\n",
       "      <th>max</th>\n",
       "      <td>74.000000</td>\n",
       "      <td>50.000000</td>\n",
       "      <td>12500.000000</td>\n",
       "      <td>98.000000</td>\n",
       "    </tr>\n",
       "  </tbody>\n",
       "</table>\n",
       "</div>"
      ],
      "text/plain": [
       "       Months since Last Donation  Number of Donations  \\\n",
       "count                  576.000000           576.000000   \n",
       "mean                     9.439236             5.427083   \n",
       "std                      8.175454             5.740010   \n",
       "min                      0.000000             1.000000   \n",
       "25%                      2.000000             2.000000   \n",
       "50%                      7.000000             4.000000   \n",
       "75%                     14.000000             7.000000   \n",
       "max                     74.000000            50.000000   \n",
       "\n",
       "       Total Volume Donated (c.c.)  Months since First Donation  \n",
       "count                   576.000000                   576.000000  \n",
       "mean                   1356.770833                    34.050347  \n",
       "std                    1435.002556                    24.227672  \n",
       "min                     250.000000                     2.000000  \n",
       "25%                     500.000000                    16.000000  \n",
       "50%                    1000.000000                    28.000000  \n",
       "75%                    1750.000000                    49.250000  \n",
       "max                   12500.000000                    98.000000  "
      ]
     },
     "execution_count": 13,
     "metadata": {},
     "output_type": "execute_result"
    }
   ],
   "source": [
    "data_train.describe()"
   ]
  },
  {
   "cell_type": "code",
   "execution_count": 14,
   "id": "4b019cc1",
   "metadata": {
    "execution": {
     "iopub.execute_input": "2022-05-24T09:26:42.440495Z",
     "iopub.status.busy": "2022-05-24T09:26:42.440157Z",
     "iopub.status.idle": "2022-05-24T09:26:42.614665Z",
     "shell.execute_reply": "2022-05-24T09:26:42.613957Z"
    },
    "papermill": {
     "duration": 0.21828,
     "end_time": "2022-05-24T09:26:42.616599",
     "exception": false,
     "start_time": "2022-05-24T09:26:42.398319",
     "status": "completed"
    },
    "tags": []
   },
   "outputs": [
    {
     "data": {
      "text/plain": [
       "<AxesSubplot:ylabel='Months since Last Donation'>"
      ]
     },
     "execution_count": 14,
     "metadata": {},
     "output_type": "execute_result"
    },
    {
     "data": {
      "image/png": "[encoded data removed]",
      "text/plain": [
       "<Figure size 432x288 with 1 Axes>"
      ]
     },
     "metadata": {
      "needs_background": "light"
     },
     "output_type": "display_data"
    }
   ],
   "source": [
    "sns.boxplot(y=data_train['Months since Last Donation'], data = data_train)\n",
    "\n",
    "#from the plot we observed that mostly donation are done nearly 10 months before"
   ]
  },
  {
   "cell_type": "code",
   "execution_count": 15,
   "id": "997326e9",
   "metadata": {
    "execution": {
     "iopub.execute_input": "2022-05-24T09:26:42.702429Z",
     "iopub.status.busy": "2022-05-24T09:26:42.701943Z",
     "iopub.status.idle": "2022-05-24T09:26:43.031614Z",
     "shell.execute_reply": "2022-05-24T09:26:43.030471Z"
    },
    "papermill": {
     "duration": 0.375876,
     "end_time": "2022-05-24T09:26:43.034118",
     "exception": false,
     "start_time": "2022-05-24T09:26:42.658242",
     "status": "completed"
    },
    "tags": []
   },
   "outputs": [
    {
     "data": {
      "text/plain": [
       "<AxesSubplot:>"
      ]
     },
     "execution_count": 15,
     "metadata": {},
     "output_type": "execute_result"
    },
    {
     "data": {
      "image/png": "[encoded data removed]",
      "text/plain": [
       "<Figure size 720x576 with 2 Axes>"
      ]
     },
     "metadata": {
      "needs_background": "light"
     },
     "output_type": "display_data"
    }
   ],
   "source": [
    "corrmat = x.corr()\n",
    "f,ax =plt.subplots(figsize=(10,8))\n",
    "sns.heatmap(corrmat,ax=ax,cmap =\"YlGnBu\",linewidths = 0.1,fmt =\".2f\", annot =True)"
   ]
  },
  {
   "cell_type": "code",
   "execution_count": 16,
   "id": "03298bbe",
   "metadata": {
    "execution": {
     "iopub.execute_input": "2022-05-24T09:26:43.125382Z",
     "iopub.status.busy": "2022-05-24T09:26:43.125029Z",
     "iopub.status.idle": "2022-05-24T09:26:43.455385Z",
     "shell.execute_reply": "2022-05-24T09:26:43.454452Z"
    },
    "papermill": {
     "duration": 0.377941,
     "end_time": "2022-05-24T09:26:43.457599",
     "exception": false,
     "start_time": "2022-05-24T09:26:43.079658",
     "status": "completed"
    },
    "tags": []
   },
   "outputs": [
    {
     "data": {
      "text/plain": [
       "array([ 2,  0,  1,  4,  5,  3, 12,  6, 11,  9, 10, 13, 14,  8,  7, 16, 23,\n",
       "       21, 18, 22, 26, 35, 74, 15, 20, 17, 25, 39, 72])"
      ]
     },
     "execution_count": 16,
     "metadata": {},
     "output_type": "execute_result"
    },
    {
     "data": {
      "image/png": "[encoded data removed]",
      "text/plain": [
       "<Figure size 432x288 with 1 Axes>"
      ]
     },
     "metadata": {
      "needs_background": "light"
     },
     "output_type": "display_data"
    }
   ],
   "source": [
    "sns.countplot(data['Months since Last Donation'])\n",
    "data['Months since Last Donation'].unique()"
   ]
  },
  {
   "cell_type": "code",
   "execution_count": 17,
   "id": "4462a134",
   "metadata": {
    "execution": {
     "iopub.execute_input": "2022-05-24T09:26:43.549779Z",
     "iopub.status.busy": "2022-05-24T09:26:43.549432Z",
     "iopub.status.idle": "2022-05-24T09:26:44.010962Z",
     "shell.execute_reply": "2022-05-24T09:26:44.010108Z"
    },
    "papermill": {
     "duration": 0.51067,
     "end_time": "2022-05-24T09:26:44.013166",
     "exception": false,
     "start_time": "2022-05-24T09:26:43.502496",
     "status": "completed"
    },
    "tags": []
   },
   "outputs": [
    {
     "data": {
      "text/plain": [
       "Text(0, 0.5, 'values')"
      ]
     },
     "execution_count": 17,
     "metadata": {},
     "output_type": "execute_result"
    },
    {
     "data": {
      "image/png": "[encoded data removed]",
      "text/plain": [
       "<Figure size 432x288 with 1 Axes>"
      ]
     },
     "metadata": {
      "needs_background": "light"
     },
     "output_type": "display_data"
    }
   ],
   "source": [
    "sns.countplot(data['Number of Donations'], hue =data['Made Donation in March 2007'])\n",
    "plt.ylabel('values')\n",
    "\n",
    "\n",
    "# as we can see in the plot below, mostly those who donated blood only one time, not donated again on march 2007\n",
    "# more number of people donated again who donated 10 times before"
   ]
  },
  {
   "cell_type": "code",
   "execution_count": 18,
   "id": "aeec55dc",
   "metadata": {
    "execution": {
     "iopub.execute_input": "2022-05-24T09:26:44.108968Z",
     "iopub.status.busy": "2022-05-24T09:26:44.108260Z",
     "iopub.status.idle": "2022-05-24T09:26:44.121142Z",
     "shell.execute_reply": "2022-05-24T09:26:44.120514Z"
    },
    "papermill": {
     "duration": 0.062873,
     "end_time": "2022-05-24T09:26:44.122948",
     "exception": false,
     "start_time": "2022-05-24T09:26:44.060075",
     "status": "completed"
    },
    "tags": []
   },
   "outputs": [
    {
     "data": {
      "text/html": [
       "<div>\n",
       "<style scoped>\n",
       "    .dataframe tbody tr th:only-of-type {\n",
       "        vertical-align: middle;\n",
       "    }\n",
       "\n",
       "    .dataframe tbody tr th {\n",
       "        vertical-align: top;\n",
       "    }\n",
       "\n",
       "    .dataframe thead th {\n",
       "        text-align: right;\n",
       "    }\n",
       "</style>\n",
       "<table border=\"1\" class=\"dataframe\">\n",
       "  <thead>\n",
       "    <tr style=\"text-align: right;\">\n",
       "      <th></th>\n",
       "      <th>Months since Last Donation</th>\n",
       "      <th>Number of Donations</th>\n",
       "      <th>Total Volume Donated (c.c.)</th>\n",
       "      <th>Months since First Donation</th>\n",
       "      <th>donating total months</th>\n",
       "    </tr>\n",
       "  </thead>\n",
       "  <tbody>\n",
       "    <tr>\n",
       "      <th>0</th>\n",
       "      <td>2</td>\n",
       "      <td>2</td>\n",
       "      <td>500</td>\n",
       "      <td>4</td>\n",
       "      <td>2</td>\n",
       "    </tr>\n",
       "    <tr>\n",
       "      <th>1</th>\n",
       "      <td>2</td>\n",
       "      <td>2</td>\n",
       "      <td>500</td>\n",
       "      <td>4</td>\n",
       "      <td>2</td>\n",
       "    </tr>\n",
       "    <tr>\n",
       "      <th>2</th>\n",
       "      <td>2</td>\n",
       "      <td>2</td>\n",
       "      <td>500</td>\n",
       "      <td>4</td>\n",
       "      <td>2</td>\n",
       "    </tr>\n",
       "    <tr>\n",
       "      <th>3</th>\n",
       "      <td>2</td>\n",
       "      <td>2</td>\n",
       "      <td>500</td>\n",
       "      <td>4</td>\n",
       "      <td>2</td>\n",
       "    </tr>\n",
       "    <tr>\n",
       "      <th>4</th>\n",
       "      <td>2</td>\n",
       "      <td>2</td>\n",
       "      <td>500</td>\n",
       "      <td>4</td>\n",
       "      <td>2</td>\n",
       "    </tr>\n",
       "  </tbody>\n",
       "</table>\n",
       "</div>"
      ],
      "text/plain": [
       "   Months since Last Donation  Number of Donations  \\\n",
       "0                           2                    2   \n",
       "1                           2                    2   \n",
       "2                           2                    2   \n",
       "3                           2                    2   \n",
       "4                           2                    2   \n",
       "\n",
       "   Total Volume Donated (c.c.)  Months since First Donation  \\\n",
       "0                          500                            4   \n",
       "1                          500                            4   \n",
       "2                          500                            4   \n",
       "3                          500                            4   \n",
       "4                          500                            4   \n",
       "\n",
       "   donating total months   \n",
       "0                       2  \n",
       "1                       2  \n",
       "2                       2  \n",
       "3                       2  \n",
       "4                       2  "
      ]
     },
     "execution_count": 18,
     "metadata": {},
     "output_type": "execute_result"
    }
   ],
   "source": [
    "x['donating total months '] = (x['Months since First Donation'] - x['Months since Last Donation'])\n",
    "x.head()"
   ]
  },
  {
   "cell_type": "code",
   "execution_count": 19,
   "id": "960b19b2",
   "metadata": {
    "execution": {
     "iopub.execute_input": "2022-05-24T09:26:44.217619Z",
     "iopub.status.busy": "2022-05-24T09:26:44.216997Z",
     "iopub.status.idle": "2022-05-24T09:26:44.228015Z",
     "shell.execute_reply": "2022-05-24T09:26:44.227394Z"
    },
    "papermill": {
     "duration": 0.061102,
     "end_time": "2022-05-24T09:26:44.230267",
     "exception": false,
     "start_time": "2022-05-24T09:26:44.169165",
     "status": "completed"
    },
    "tags": []
   },
   "outputs": [
    {
     "data": {
      "text/html": [
       "<div>\n",
       "<style scoped>\n",
       "    .dataframe tbody tr th:only-of-type {\n",
       "        vertical-align: middle;\n",
       "    }\n",
       "\n",
       "    .dataframe tbody tr th {\n",
       "        vertical-align: top;\n",
       "    }\n",
       "\n",
       "    .dataframe thead th {\n",
       "        text-align: right;\n",
       "    }\n",
       "</style>\n",
       "<table border=\"1\" class=\"dataframe\">\n",
       "  <thead>\n",
       "    <tr style=\"text-align: right;\">\n",
       "      <th></th>\n",
       "      <th>Months since Last Donation</th>\n",
       "      <th>Number of Donations</th>\n",
       "      <th>Months since First Donation</th>\n",
       "      <th>donating total months</th>\n",
       "    </tr>\n",
       "  </thead>\n",
       "  <tbody>\n",
       "    <tr>\n",
       "      <th>0</th>\n",
       "      <td>2</td>\n",
       "      <td>2</td>\n",
       "      <td>4</td>\n",
       "      <td>2</td>\n",
       "    </tr>\n",
       "    <tr>\n",
       "      <th>1</th>\n",
       "      <td>2</td>\n",
       "      <td>2</td>\n",
       "      <td>4</td>\n",
       "      <td>2</td>\n",
       "    </tr>\n",
       "    <tr>\n",
       "      <th>2</th>\n",
       "      <td>2</td>\n",
       "      <td>2</td>\n",
       "      <td>4</td>\n",
       "      <td>2</td>\n",
       "    </tr>\n",
       "    <tr>\n",
       "      <th>3</th>\n",
       "      <td>2</td>\n",
       "      <td>2</td>\n",
       "      <td>4</td>\n",
       "      <td>2</td>\n",
       "    </tr>\n",
       "    <tr>\n",
       "      <th>4</th>\n",
       "      <td>2</td>\n",
       "      <td>2</td>\n",
       "      <td>4</td>\n",
       "      <td>2</td>\n",
       "    </tr>\n",
       "  </tbody>\n",
       "</table>\n",
       "</div>"
      ],
      "text/plain": [
       "   Months since Last Donation  Number of Donations  \\\n",
       "0                           2                    2   \n",
       "1                           2                    2   \n",
       "2                           2                    2   \n",
       "3                           2                    2   \n",
       "4                           2                    2   \n",
       "\n",
       "   Months since First Donation  donating total months   \n",
       "0                            4                       2  \n",
       "1                            4                       2  \n",
       "2                            4                       2  \n",
       "3                            4                       2  \n",
       "4                            4                       2  "
      ]
     },
     "execution_count": 19,
     "metadata": {},
     "output_type": "execute_result"
    }
   ],
   "source": [
    "x= x.drop('Total Volume Donated (c.c.)',axis =1)\n",
    "x.head()"
   ]
  },
  {
   "cell_type": "code",
   "execution_count": 20,
   "id": "3ec130e6",
   "metadata": {
    "execution": {
     "iopub.execute_input": "2022-05-24T09:26:44.327434Z",
     "iopub.status.busy": "2022-05-24T09:26:44.326849Z",
     "iopub.status.idle": "2022-05-24T09:26:44.333445Z",
     "shell.execute_reply": "2022-05-24T09:26:44.332287Z"
    },
    "papermill": {
     "duration": 0.057524,
     "end_time": "2022-05-24T09:26:44.335621",
     "exception": false,
     "start_time": "2022-05-24T09:26:44.278097",
     "status": "completed"
    },
    "tags": []
   },
   "outputs": [
    {
     "data": {
      "text/plain": [
       "(810, 4)"
      ]
     },
     "execution_count": 20,
     "metadata": {},
     "output_type": "execute_result"
    }
   ],
   "source": [
    "x.dtypes\n",
    "x.shape"
   ]
  },
  {
   "cell_type": "code",
   "execution_count": 21,
   "id": "fabe7551",
   "metadata": {
    "execution": {
     "iopub.execute_input": "2022-05-24T09:26:44.432461Z",
     "iopub.status.busy": "2022-05-24T09:26:44.431999Z",
     "iopub.status.idle": "2022-05-24T09:26:44.444923Z",
     "shell.execute_reply": "2022-05-24T09:26:44.444276Z"
    },
    "papermill": {
     "duration": 0.064263,
     "end_time": "2022-05-24T09:26:44.446791",
     "exception": false,
     "start_time": "2022-05-24T09:26:44.382528",
     "status": "completed"
    },
    "tags": []
   },
   "outputs": [
    {
     "data": {
      "text/html": [
       "<div>\n",
       "<style scoped>\n",
       "    .dataframe tbody tr th:only-of-type {\n",
       "        vertical-align: middle;\n",
       "    }\n",
       "\n",
       "    .dataframe tbody tr th {\n",
       "        vertical-align: top;\n",
       "    }\n",
       "\n",
       "    .dataframe thead th {\n",
       "        text-align: right;\n",
       "    }\n",
       "</style>\n",
       "<table border=\"1\" class=\"dataframe\">\n",
       "  <thead>\n",
       "    <tr style=\"text-align: right;\">\n",
       "      <th></th>\n",
       "      <th>Months since Last Donation</th>\n",
       "      <th>Number of Donations</th>\n",
       "      <th>Months since First Donation</th>\n",
       "      <th>donating total months</th>\n",
       "    </tr>\n",
       "  </thead>\n",
       "  <tbody>\n",
       "    <tr>\n",
       "      <th>0</th>\n",
       "      <td>2</td>\n",
       "      <td>2</td>\n",
       "      <td>4</td>\n",
       "      <td>2</td>\n",
       "    </tr>\n",
       "    <tr>\n",
       "      <th>1</th>\n",
       "      <td>2</td>\n",
       "      <td>2</td>\n",
       "      <td>4</td>\n",
       "      <td>2</td>\n",
       "    </tr>\n",
       "    <tr>\n",
       "      <th>2</th>\n",
       "      <td>2</td>\n",
       "      <td>2</td>\n",
       "      <td>4</td>\n",
       "      <td>2</td>\n",
       "    </tr>\n",
       "    <tr>\n",
       "      <th>3</th>\n",
       "      <td>2</td>\n",
       "      <td>2</td>\n",
       "      <td>4</td>\n",
       "      <td>2</td>\n",
       "    </tr>\n",
       "    <tr>\n",
       "      <th>4</th>\n",
       "      <td>2</td>\n",
       "      <td>2</td>\n",
       "      <td>4</td>\n",
       "      <td>2</td>\n",
       "    </tr>\n",
       "  </tbody>\n",
       "</table>\n",
       "</div>"
      ],
      "text/plain": [
       "   Months since Last Donation  Number of Donations  \\\n",
       "0                           2                    2   \n",
       "1                           2                    2   \n",
       "2                           2                    2   \n",
       "3                           2                    2   \n",
       "4                           2                    2   \n",
       "\n",
       "   Months since First Donation  donating total months   \n",
       "0                            4                       2  \n",
       "1                            4                       2  \n",
       "2                            4                       2  \n",
       "3                            4                       2  \n",
       "4                            4                       2  "
      ]
     },
     "execution_count": 21,
     "metadata": {},
     "output_type": "execute_result"
    }
   ],
   "source": [
    "#feature transformation\n",
    "from sklearn.preprocessing import StandardScaler\n",
    "scale = StandardScaler()\n",
    "scale.fit_transform(x)\n",
    "x.head()"
   ]
  },
  {
   "cell_type": "code",
   "execution_count": 22,
   "id": "6ed4f08d",
   "metadata": {
    "execution": {
     "iopub.execute_input": "2022-05-24T09:26:44.546016Z",
     "iopub.status.busy": "2022-05-24T09:26:44.545530Z",
     "iopub.status.idle": "2022-05-24T09:26:44.550023Z",
     "shell.execute_reply": "2022-05-24T09:26:44.549254Z"
    },
    "papermill": {
     "duration": 0.056961,
     "end_time": "2022-05-24T09:26:44.552304",
     "exception": false,
     "start_time": "2022-05-24T09:26:44.495343",
     "status": "completed"
    },
    "tags": []
   },
   "outputs": [],
   "source": [
    "x=x[:576]\n",
    "y=y[:576]\n",
    "test = x[576:]"
   ]
  },
  {
   "cell_type": "code",
   "execution_count": 23,
   "id": "34c93a28",
   "metadata": {
    "execution": {
     "iopub.execute_input": "2022-05-24T09:26:44.650713Z",
     "iopub.status.busy": "2022-05-24T09:26:44.650169Z",
     "iopub.status.idle": "2022-05-24T09:26:44.657769Z",
     "shell.execute_reply": "2022-05-24T09:26:44.656674Z"
    },
    "papermill": {
     "duration": 0.059028,
     "end_time": "2022-05-24T09:26:44.659820",
     "exception": false,
     "start_time": "2022-05-24T09:26:44.600792",
     "status": "completed"
    },
    "tags": []
   },
   "outputs": [
    {
     "data": {
      "text/plain": [
       "(403,)"
      ]
     },
     "execution_count": 23,
     "metadata": {},
     "output_type": "execute_result"
    }
   ],
   "source": [
    "x_train,x_test,y_train,y_test = train_test_split(x,y,test_size =0.3)\n",
    "y_train.shape"
   ]
  },
  {
   "cell_type": "code",
   "execution_count": 24,
   "id": "5eabfcbd",
   "metadata": {
    "execution": {
     "iopub.execute_input": "2022-05-24T09:26:44.761902Z",
     "iopub.status.busy": "2022-05-24T09:26:44.761097Z",
     "iopub.status.idle": "2022-05-24T09:26:45.067911Z",
     "shell.execute_reply": "2022-05-24T09:26:45.066819Z"
    },
    "papermill": {
     "duration": 0.361548,
     "end_time": "2022-05-24T09:26:45.070501",
     "exception": false,
     "start_time": "2022-05-24T09:26:44.708953",
     "status": "completed"
    },
    "tags": []
   },
   "outputs": [
    {
     "name": "stdout",
     "output_type": "stream",
     "text": [
      "0.7745664739884393\n"
     ]
    },
    {
     "data": {
      "text/plain": [
       "0.7745664739884393"
      ]
     },
     "execution_count": 24,
     "metadata": {},
     "output_type": "execute_result"
    }
   ],
   "source": [
    "from sklearn.linear_model import LogisticRegression\n",
    "#from sklearn.metrics import score\n",
    "\n",
    "logreg = LogisticRegression()\n",
    "logreg.fit(x_train,y_train)\n",
    "predict = logreg.predict(x_test)\n",
    "\n",
    "print(logreg.score(x_test,y_test))\n",
    "accuracy_score(y_test,predict)\n",
    "\n"
   ]
  },
  {
   "cell_type": "code",
   "execution_count": 25,
   "id": "eb1038b4",
   "metadata": {
    "execution": {
     "iopub.execute_input": "2022-05-24T09:26:45.171169Z",
     "iopub.status.busy": "2022-05-24T09:26:45.170655Z",
     "iopub.status.idle": "2022-05-24T09:26:45.194339Z",
     "shell.execute_reply": "2022-05-24T09:26:45.193471Z"
    },
    "papermill": {
     "duration": 0.076892,
     "end_time": "2022-05-24T09:26:45.196428",
     "exception": false,
     "start_time": "2022-05-24T09:26:45.119536",
     "status": "completed"
    },
    "tags": []
   },
   "outputs": [
    {
     "data": {
      "text/plain": [
       "0.7572254335260116"
      ]
     },
     "execution_count": 25,
     "metadata": {},
     "output_type": "execute_result"
    }
   ],
   "source": [
    "from sklearn.svm import SVC\n",
    "\n",
    "svccl = SVC(kernel = 'linear',gamma = 'scale', shrinking = False)\n",
    "\n",
    "svccl.fit(x_train,y_train)\n",
    "predict = svccl.predict(x_test)\n",
    "svccl.score(x_test,y_test)"
   ]
  },
  {
   "cell_type": "code",
   "execution_count": 26,
   "id": "0b4fa7ca",
   "metadata": {
    "execution": {
     "iopub.execute_input": "2022-05-24T09:26:45.298364Z",
     "iopub.status.busy": "2022-05-24T09:26:45.297864Z",
     "iopub.status.idle": "2022-05-24T09:26:45.306040Z",
     "shell.execute_reply": "2022-05-24T09:26:45.305425Z"
    },
    "papermill": {
     "duration": 0.061822,
     "end_time": "2022-05-24T09:26:45.308125",
     "exception": false,
     "start_time": "2022-05-24T09:26:45.246303",
     "status": "completed"
    },
    "tags": []
   },
   "outputs": [
    {
     "data": {
      "text/plain": [
       "array([[130,  38],\n",
       "       [  4,   1]])"
      ]
     },
     "execution_count": 26,
     "metadata": {},
     "output_type": "execute_result"
    }
   ],
   "source": [
    "confusion_matrix(predict,y_test)"
   ]
  },
  {
   "cell_type": "code",
   "execution_count": null,
   "id": "6942b366",
   "metadata": {
    "papermill": {
     "duration": 0.051312,
     "end_time": "2022-05-24T09:26:45.409840",
     "exception": false,
     "start_time": "2022-05-24T09:26:45.358528",
     "status": "completed"
    },
    "tags": []
   },
   "outputs": [],
   "source": []
  },
  {
   "cell_type": "code",
   "execution_count": 27,
   "id": "0fbab07c",
   "metadata": {
    "execution": {
     "iopub.execute_input": "2022-05-24T09:26:45.512192Z",
     "iopub.status.busy": "2022-05-24T09:26:45.511735Z",
     "iopub.status.idle": "2022-05-24T09:26:45.868742Z",
     "shell.execute_reply": "2022-05-24T09:26:45.867784Z"
    },
    "papermill": {
     "duration": 0.410944,
     "end_time": "2022-05-24T09:26:45.871099",
     "exception": false,
     "start_time": "2022-05-24T09:26:45.460155",
     "status": "completed"
    },
    "tags": []
   },
   "outputs": [
    {
     "data": {
      "text/plain": [
       "0.7572254335260116"
      ]
     },
     "execution_count": 27,
     "metadata": {},
     "output_type": "execute_result"
    }
   ],
   "source": [
    "\n",
    "from sklearn.ensemble import RandomForestClassifier\n",
    "rfc = RandomForestClassifier()\n",
    "\n",
    "rfc.fit(x_train,y_train)\n",
    "\n",
    "predict = rfc.predict(x_test)\n",
    "\n",
    "accuracy_score(predict,y_test)\n"
   ]
  },
  {
   "cell_type": "code",
   "execution_count": 28,
   "id": "dcf621e6",
   "metadata": {
    "execution": {
     "iopub.execute_input": "2022-05-24T09:26:45.976413Z",
     "iopub.status.busy": "2022-05-24T09:26:45.976095Z",
     "iopub.status.idle": "2022-05-24T09:26:45.985136Z",
     "shell.execute_reply": "2022-05-24T09:26:45.984014Z"
    },
    "papermill": {
     "duration": 0.065562,
     "end_time": "2022-05-24T09:26:45.987598",
     "exception": false,
     "start_time": "2022-05-24T09:26:45.922036",
     "status": "completed"
    },
    "tags": []
   },
   "outputs": [
    {
     "data": {
      "text/plain": [
       "array([[126,  34],\n",
       "       [  8,   5]])"
      ]
     },
     "execution_count": 28,
     "metadata": {},
     "output_type": "execute_result"
    }
   ],
   "source": [
    "confusion_matrix(predict,y_test)"
   ]
  },
  {
   "cell_type": "code",
   "execution_count": 29,
   "id": "064206ad",
   "metadata": {
    "execution": {
     "iopub.execute_input": "2022-05-24T09:26:46.096309Z",
     "iopub.status.busy": "2022-05-24T09:26:46.095972Z",
     "iopub.status.idle": "2022-05-24T09:26:46.116351Z",
     "shell.execute_reply": "2022-05-24T09:26:46.115078Z"
    },
    "papermill": {
     "duration": 0.078859,
     "end_time": "2022-05-24T09:26:46.118816",
     "exception": false,
     "start_time": "2022-05-24T09:26:46.039957",
     "status": "completed"
    },
    "tags": []
   },
   "outputs": [
    {
     "data": {
      "text/plain": [
       "Number of Donations            0.410667\n",
       "donating total months          0.250869\n",
       "Months since Last Donation     0.176639\n",
       "Months since First Donation    0.161825\n",
       "dtype: float64"
      ]
     },
     "execution_count": 29,
     "metadata": {},
     "output_type": "execute_result"
    }
   ],
   "source": [
    "#feature importance\n",
    "\n",
    "feature_imp = pd.Series(rfc.feature_importances_, index = x.columns).sort_values(ascending = False)\n",
    "feature_imp"
   ]
  },
  {
   "cell_type": "code",
   "execution_count": 30,
   "id": "26e4876a",
   "metadata": {
    "execution": {
     "iopub.execute_input": "2022-05-24T09:26:46.226927Z",
     "iopub.status.busy": "2022-05-24T09:26:46.226610Z",
     "iopub.status.idle": "2022-05-24T09:26:46.504912Z",
     "shell.execute_reply": "2022-05-24T09:26:46.503864Z"
    },
    "papermill": {
     "duration": 0.3351,
     "end_time": "2022-05-24T09:26:46.508051",
     "exception": false,
     "start_time": "2022-05-24T09:26:46.172951",
     "status": "completed"
    },
    "tags": []
   },
   "outputs": [
    {
     "data": {
      "text/plain": [
       "0.7687861271676301"
      ]
     },
     "execution_count": 30,
     "metadata": {},
     "output_type": "execute_result"
    }
   ],
   "source": [
    "from sklearn.neural_network import MLPClassifier\n",
    "\n",
    "mlp = MLPClassifier(solver = 'lbfgs', alpha = 1e-5,hidden_layer_sizes = (25,),random_state =1)\n",
    "\n",
    "mlp.fit(x_train,y_train)\n",
    "\n",
    "predict = mlp.predict(x_test)\n",
    "\n",
    "accuracy_score(predict,y_test)"
   ]
  },
  {
   "cell_type": "code",
   "execution_count": 31,
   "id": "d2a31d97",
   "metadata": {
    "execution": {
     "iopub.execute_input": "2022-05-24T09:26:46.661800Z",
     "iopub.status.busy": "2022-05-24T09:26:46.660952Z",
     "iopub.status.idle": "2022-05-24T09:26:46.667441Z",
     "shell.execute_reply": "2022-05-24T09:26:46.666908Z"
    },
    "papermill": {
     "duration": 0.066843,
     "end_time": "2022-05-24T09:26:46.669216",
     "exception": false,
     "start_time": "2022-05-24T09:26:46.602373",
     "status": "completed"
    },
    "tags": []
   },
   "outputs": [
    {
     "data": {
      "text/plain": [
       "array([[128,  34],\n",
       "       [  6,   5]])"
      ]
     },
     "execution_count": 31,
     "metadata": {},
     "output_type": "execute_result"
    }
   ],
   "source": [
    "confusion_matrix(predict,y_test)"
   ]
  }
 ],
 "metadata": {
  "kernelspec": {
   "display_name": "Python 3",
   "language": "python",
   "name": "python3"
  },
  "language_info": {
   "codemirror_mode": {
    "name": "ipython",
    "version": 3
   },
   "file_extension": ".py",
   "mimetype": "text/x-python",
   "name": "python",
   "nbconvert_exporter": "python",
   "pygments_lexer": "ipython3",
   "version": "3.7.12"
  },
  "papermill": {
   "default_parameters": {},
   "duration": 19.553787,
   "end_time": "2022-05-24T09:26:47.542202",
   "environment_variables": {},
   "exception": null,
   "input_path": "__notebook__.ipynb",
   "output_path": "__notebook__.ipynb",
   "parameters": {},
   "start_time": "2022-05-24T09:26:27.988415",
   "version": "2.3.4"
  }
 },
 "nbformat": 4,
 "nbformat_minor": 5
}
